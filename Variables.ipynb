{
 "cells": [
  {
   "cell_type": "markdown",
   "metadata": {},
   "source": [
    "# Welcome to Python! \n",
    "\n",
    "We are going to be writing code using python Jupyter notebooks. It's what all the pros use.\n",
    "Here is the basic thing to know.\n",
    "When you type in something, if you press ENTER, it just makes moves you to the next space.\n",
    "If you want to run a line of code, you must hold SHIFT then press ENTER.\n",
    "\n",
    "Try it below. Go to the line that says \"test = 1\" and run the code (SHIFT + ENTER). Then do it again on the following line where it says \"test\". If you get an error, you didn't do it right. Go back and try again. \n"
   ]
  },
  {
   "cell_type": "code",
   "execution_count": 2,
   "metadata": {
    "collapsed": true
   },
   "outputs": [],
   "source": [
    "test = 1"
   ]
  },
  {
   "cell_type": "code",
   "execution_count": 3,
   "metadata": {},
   "outputs": [
    {
     "data": {
      "text/plain": [
       "1"
      ]
     },
     "execution_count": 3,
     "metadata": {},
     "output_type": "execute_result"
    }
   ],
   "source": [
    "test"
   ]
  },
  {
   "cell_type": "markdown",
   "metadata": {
    "collapsed": true
   },
   "source": [
    "## Now it's your turn.\n",
    "\n",
    "Let's try out some different variables.\n",
    "\n",
    "Remember a variable is a name you are using in your computer program to store some value. A value could be a word (called a STRING) or a number (called an INTEGER or FLOAT).\n",
    "\n",
    "We'll do numbers first, and then learn how to manipulate them.\n",
    "\n",
    "Start by making a variable and setting it equal to how old you are.\n",
    "\n",
    "Look at my example below. \n",
    "\n",
    "Run my code, then edit the code below to make your own."
   ]
  },
  {
   "cell_type": "code",
   "execution_count": 4,
   "metadata": {
    "collapsed": true
   },
   "outputs": [],
   "source": [
    "mike = 31"
   ]
  },
  {
   "cell_type": "code",
   "execution_count": 5,
   "metadata": {
    "collapsed": true
   },
   "outputs": [],
   "source": [
    "your_name_here = 999 #Erase all of this and make your variable"
   ]
  },
  {
   "cell_type": "markdown",
   "metadata": {},
   "source": [
    "# Now let's try doing the basic operations\n",
    "\n",
    "We can:\n",
    "\n",
    "Add +  \n",
    "Subtract -  \n",
    "Multiply *  \n",
    "Divide / \n",
    "\n",
    "Let's do one of each.\n",
    "\n",
    "Examples:\n",
    "```\n",
    "mike * 2  \n",
    "mike + 20  \n",
    "mike / 4  \n",
    "mike - 10  \n",
    "```"
   ]
  },
  {
   "cell_type": "code",
   "execution_count": 6,
   "metadata": {
    "collapsed": true
   },
   "outputs": [],
   "source": [
    "# Do a multiplication using your variable"
   ]
  },
  {
   "cell_type": "code",
   "execution_count": 7,
   "metadata": {},
   "outputs": [],
   "source": [
    "# Do an addition using your variable"
   ]
  },
  {
   "cell_type": "code",
   "execution_count": 8,
   "metadata": {
    "collapsed": true
   },
   "outputs": [],
   "source": [
    "# Do a subtraction using your variable"
   ]
  },
  {
   "cell_type": "code",
   "execution_count": 9,
   "metadata": {},
   "outputs": [],
   "source": [
    "# Do a division using your variable"
   ]
  },
  {
   "cell_type": "markdown",
   "metadata": {},
   "source": [
    "# Now use multiple variables\n",
    "\n",
    "Make a new variable called \"friend\" that uses your old variable. \n",
    "\n",
    "Like this:\n",
    "\n",
    "`friend = mike * 3`\n",
    "\n",
    "- Use subtraction to make friend = 2\n",
    "- Use addition to make friend = 50\n",
    "- Use multiplication to make friend bigger than 100\n",
    "- Use division to make friend less than 5\n",
    "\n",
    "Show you got these answers by running your code below."
   ]
  },
  {
   "cell_type": "code",
   "execution_count": 10,
   "metadata": {
    "collapsed": true
   },
   "outputs": [],
   "source": [
    "# Subtraction Challenge Here"
   ]
  },
  {
   "cell_type": "code",
   "execution_count": 11,
   "metadata": {
    "collapsed": true
   },
   "outputs": [],
   "source": [
    "# Addition Challenge Here"
   ]
  },
  {
   "cell_type": "code",
   "execution_count": 12,
   "metadata": {
    "collapsed": true
   },
   "outputs": [],
   "source": [
    "# Multiplication Challenge Here"
   ]
  },
  {
   "cell_type": "code",
   "execution_count": 13,
   "metadata": {
    "collapsed": true
   },
   "outputs": [],
   "source": [
    "# Division Challenge Here"
   ]
  },
  {
   "cell_type": "markdown",
   "metadata": {
    "collapsed": true
   },
   "source": [
    "# Test your skills\n",
    "\n",
    "Below you'll find 4 variables: myMoney, car, phone, house. In this test, myMoney is all the money you have in your bank account. Now do the following things:\n",
    "\n",
    "1. Start by running the code below to establish these variables.\n",
    "2. Make a variable called \"extra\" and set it equal to myMoney minus car, phone, and house.\n",
    "3. Print out how much extra money you have using `print(extra)`\n",
    "4. Make a new variable called \"food\". Set it equal to how much of your extra money you want to spend on food.\n",
    "5. Make another variable called \"fun\". Set it equal to how much of your extra money you want to spend on fun.\n",
    "6. Now re-calculate extra also subtracting your food and fun budget\n",
    "\n",
    "Did your total budget for car, phone, house, food, and fun come higher or lower than myMoney?"
   ]
  },
  {
   "cell_type": "code",
   "execution_count": null,
   "metadata": {
    "collapsed": true
   },
   "outputs": [],
   "source": [
    "myMoney = 1500\n",
    "car = 150\n",
    "phone = 40\n",
    "house = 700"
   ]
  },
  {
   "cell_type": "code",
   "execution_count": null,
   "metadata": {
    "collapsed": true
   },
   "outputs": [],
   "source": [
    "# Do 2 here"
   ]
  },
  {
   "cell_type": "code",
   "execution_count": null,
   "metadata": {
    "collapsed": true
   },
   "outputs": [],
   "source": [
    "# Do 3 here"
   ]
  },
  {
   "cell_type": "code",
   "execution_count": null,
   "metadata": {
    "collapsed": true
   },
   "outputs": [],
   "source": [
    "# Do 4 here"
   ]
  },
  {
   "cell_type": "code",
   "execution_count": null,
   "metadata": {
    "collapsed": true
   },
   "outputs": [],
   "source": [
    "# Do 5 here"
   ]
  },
  {
   "cell_type": "code",
   "execution_count": null,
   "metadata": {
    "collapsed": true
   },
   "outputs": [],
   "source": [
    "# Do 6 here"
   ]
  },
  {
   "cell_type": "markdown",
   "metadata": {},
   "source": [
    "# Using words as variables\n",
    "\n",
    "In Python, all variables do not have to be numbers. We can also use words. In computer terms we call data that is in the form of words STRINGS.\n",
    "\n",
    "They work like this:\n",
    "\n",
    "`bestie = \"Dougie Jones is my best friend in the world\" `\n",
    "\n",
    "Now the variable `bestie` is storing that whole sentence. What is important to notice is that we had to use quotation marks around the sentence. If you don't add quotation marks, Python doesn't know you're trying to make it store a word.\n",
    "\n",
    "Look at my example below with the variable \"mostFun\" then try your own. Make a variable named soFunny and set it equal to something you find funny."
   ]
  },
  {
   "cell_type": "code",
   "execution_count": 16,
   "metadata": {},
   "outputs": [
    {
     "name": "stdout",
     "output_type": "stream",
     "text": [
      "Going to Salina, Italy was the most fun trip I've ever taken.\n"
     ]
    }
   ],
   "source": [
    "# example\n",
    "mostFun = \"Going to Salina, Italy was the most fun trip I've ever taken.\"\n",
    "print(mostFun)"
   ]
  },
  {
   "cell_type": "code",
   "execution_count": null,
   "metadata": {
    "collapsed": true
   },
   "outputs": [],
   "source": [
    "# Make your variable soFunny here then print it to show it worked"
   ]
  },
  {
   "cell_type": "markdown",
   "metadata": {},
   "source": [
    "# Operators with Strings\n",
    "\n",
    "Now that you set your first variable with a STRING, it's time to see what happens. Remember our old friends `+`, `-`, `*`, and `/` ?\n",
    "\n",
    "How do you think they work on strings?\n",
    "\n",
    "Below I've made a few variables for you to play with. Play with them using the above operators. What do they do? Do they work at all? Some will, some won't, but you have to figure it out. Answer below.\n",
    "\n",
    "Remember you can print anything out by typing `print(variable_name)`"
   ]
  },
  {
   "cell_type": "code",
   "execution_count": 17,
   "metadata": {
    "collapsed": true
   },
   "outputs": [],
   "source": [
    "word1 = \"hairy\"\n",
    "word2 = \"bugs\"\n",
    "word3 = \"diapers\"\n",
    "word4 = \"smelly\"\n",
    "word5 = \"grandma\"\n",
    "num = 3"
   ]
  },
  {
   "cell_type": "code",
   "execution_count": null,
   "metadata": {
    "collapsed": true
   },
   "outputs": [],
   "source": [
    "# Play Around"
   ]
  },
  {
   "cell_type": "code",
   "execution_count": null,
   "metadata": {
    "collapsed": true
   },
   "outputs": [],
   "source": [
    "# In these"
   ]
  },
  {
   "cell_type": "code",
   "execution_count": null,
   "metadata": {
    "collapsed": true
   },
   "outputs": [],
   "source": [
    "# Cells"
   ]
  },
  {
   "cell_type": "markdown",
   "metadata": {},
   "source": [
    "Double click this cell and type your answers in next to the question.\n",
    "\n",
    "What does + do?\n",
    "\n",
    "What does - do?\n",
    "\n",
    "What does * do?\n",
    "\n",
    "What does / do?\n",
    "\n",
    "What happens when you mix a string and a number with +?\n",
    "\n",
    "What happens when you mix a string and a number with *?"
   ]
  },
  {
   "cell_type": "code",
   "execution_count": null,
   "metadata": {
    "collapsed": true
   },
   "outputs": [],
   "source": []
  }
 ],
 "metadata": {
  "kernelspec": {
   "display_name": "Python 3",
   "language": "python",
   "name": "python3"
  },
  "language_info": {
   "codemirror_mode": {
    "name": "ipython",
    "version": 2
   },
   "file_extension": ".py",
   "mimetype": "text/x-python",
   "name": "python",
   "nbconvert_exporter": "python",
   "pygments_lexer": "ipython2",
   "version": "2.7.10"
  }
 },
 "nbformat": 4,
 "nbformat_minor": 2
}
