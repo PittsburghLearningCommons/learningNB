{
 "cells": [
  {
   "cell_type": "markdown",
   "metadata": {},
   "source": [
    "# Welcome to Python! \n",
    "\n",
    "We are going to be writing code using python Jupyter notebooks. It's what all the pros use.\n",
    "Here is the basic thing to know.\n",
    "When you type in something, if you press ENTER, it just makes moves you to the next space.\n",
    "If you want to run a line of code, you must hold SHIFT then press ENTER.\n",
    "\n",
    "Try it below. Go to the line that says \"test = 1\" and run the code (SHIFT + ENTER). Then do it again on the following line where it says \"test\". If you get an error, you didn't do it right. Go back and try again. \n"
   ]
  },
  {
   "cell_type": "code",
   "execution_count": 2,
   "metadata": {
    "collapsed": true
   },
   "outputs": [],
   "source": [
    "test = 1"
   ]
  },
  {
   "cell_type": "code",
   "execution_count": 3,
   "metadata": {},
   "outputs": [
    {
     "data": {
      "text/plain": [
       "1"
      ]
     },
     "execution_count": 3,
     "metadata": {},
     "output_type": "execute_result"
    }
   ],
   "source": [
    "test"
   ]
  },
  {
   "cell_type": "markdown",
   "metadata": {
    "collapsed": true
   },
   "source": [
    "## Now it's your turn.\n",
    "\n",
    "Let's try out some different variables.\n",
    "\n",
    "Remember a variable is a name you are using in your computer program to store some value. A value could be a word (called a STRING) or a number (called an INTEGER or FLOAT).\n",
    "\n",
    "We'll do numbers first, and then learn how to manipulate them.\n",
    "\n",
    "Start by making a variable and setting it equal to how old you are.\n",
    "\n",
    "Look at my example below. \n",
    "\n",
    "Run my code, then edit the code below to make your own."
   ]
  },
  {
   "cell_type": "code",
   "execution_count": 4,
   "metadata": {
    "collapsed": true
   },
   "outputs": [],
   "source": [
    "mike = 31"
   ]
  },
  {
   "cell_type": "code",
   "execution_count": 6,
   "metadata": {
    "collapsed": true
   },
   "outputs": [],
   "source": [
    "your_name_here = 999 #Erase all of this and make your variable"
   ]
  },
  {
   "cell_type": "markdown",
   "metadata": {},
   "source": [
    "# Now let's try doing the basic operations\n",
    "\n",
    "We can:\n",
    "\n",
    "Add +  \n",
    "Subtract -  \n",
    "Multiply *  \n",
    "Divide / \n",
    "\n",
    "Let's do one of each.\n",
    "\n",
    "Examples:\n",
    "```\n",
    "mike * 2  \n",
    "mike + 20  \n",
    "mike / 4  \n",
    "mike - 10  \n",
    "```"
   ]
  },
  {
   "cell_type": "code",
   "execution_count": 12,
   "metadata": {},
   "outputs": [],
   "source": [
    "# Do a multiplication using your variable"
   ]
  },
  {
   "cell_type": "code",
   "execution_count": 9,
   "metadata": {},
   "outputs": [
    {
     "data": {
      "text/plain": [
       "51"
      ]
     },
     "execution_count": 9,
     "metadata": {},
     "output_type": "execute_result"
    }
   ],
   "source": [
    "# Do an addition using your variable"
   ]
  },
  {
   "cell_type": "code",
   "execution_count": 13,
   "metadata": {},
   "outputs": [],
   "source": [
    "# Do a subtraction using your variable"
   ]
  },
  {
   "cell_type": "code",
   "execution_count": 11,
   "metadata": {},
   "outputs": [
    {
     "data": {
      "text/plain": [
       "21"
      ]
     },
     "execution_count": 11,
     "metadata": {},
     "output_type": "execute_result"
    }
   ],
   "source": [
    "# Do a division using your variable"
   ]
  },
  {
   "cell_type": "markdown",
   "metadata": {},
   "source": [
    "# Now use multiple variables\n",
    "\n",
    "Make a new variable called \"friend\" that uses your old variable. \n",
    "\n",
    "Like this:\n",
    "\n",
    "`friend = mike * 3`\n",
    "\n",
    "- Use subtraction to make friend = 2\n",
    "- Use addition to make friend = 50\n",
    "- Use multiplication to make friend bigger than 100\n",
    "- Use division to make friend less than 5\n",
    "\n",
    "Show you got these answers by running your code below."
   ]
  },
  {
   "cell_type": "code",
   "execution_count": null,
   "metadata": {
    "collapsed": true
   },
   "outputs": [],
   "source": [
    "# Subtraction Challenge Here"
   ]
  },
  {
   "cell_type": "code",
   "execution_count": null,
   "metadata": {
    "collapsed": true
   },
   "outputs": [],
   "source": [
    "# Addition Challenge Here"
   ]
  },
  {
   "cell_type": "code",
   "execution_count": null,
   "metadata": {
    "collapsed": true
   },
   "outputs": [],
   "source": [
    "# Multiplication Challenge Here"
   ]
  },
  {
   "cell_type": "code",
   "execution_count": 14,
   "metadata": {
    "collapsed": true
   },
   "outputs": [],
   "source": [
    "# Division Challenge Here"
   ]
  },
  {
   "cell_type": "code",
   "execution_count": null,
   "metadata": {
    "collapsed": true
   },
   "outputs": [],
   "source": []
  }
 ],
 "metadata": {
  "kernelspec": {
   "display_name": "Python 3",
   "language": "python",
   "name": "python3"
  },
  "language_info": {
   "codemirror_mode": {
    "name": "ipython",
    "version": 2
   },
   "file_extension": ".py",
   "mimetype": "text/x-python",
   "name": "python",
   "nbconvert_exporter": "python",
   "pygments_lexer": "ipython2",
   "version": "2.7.10"
  }
 },
 "nbformat": 4,
 "nbformat_minor": 2
}
